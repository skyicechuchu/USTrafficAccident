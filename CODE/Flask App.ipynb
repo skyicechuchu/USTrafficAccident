{
 "cells": [
  {
   "cell_type": "code",
   "execution_count": 5,
   "id": "c8d65e0d",
   "metadata": {},
   "outputs": [
    {
     "name": "stdout",
     "output_type": "stream",
     "text": [
      " * Serving Flask app \"__main__\" (lazy loading)\n",
      " * Environment: production\n",
      "\u001b[31m   WARNING: This is a development server. Do not use it in a production deployment.\u001b[0m\n",
      "\u001b[2m   Use a production WSGI server instead.\u001b[0m\n",
      " * Debug mode: off\n"
     ]
    },
    {
     "name": "stderr",
     "output_type": "stream",
     "text": [
      " * Running on http://127.0.0.1:5000/ (Press CTRL+C to quit)\n",
      "127.0.0.1 - - [23/Apr/2022 16:06:04] \"GET / HTTP/1.1\" 200 -\n",
      "127.0.0.1 - - [23/Apr/2022 16:06:04] \"GET /static/style.css HTTP/1.1\" 304 -\n"
     ]
    }
   ],
   "source": [
    "from flask import Flask, request, jsonify, render_template\n",
    "import pickle\n",
    "import requests\n",
    "import pandas as pd\n",
    "import matplotlib.pyplot as plt\n",
    "\n",
    "\n",
    "app = Flask(__name__)\n",
    "\n",
    "app.config['SEND_FILE_MAX_AGE_DEFAULT'] = 0\n",
    "app.config['TEMPLATES_AUTO_RELOAD'] = True\n",
    "\n",
    "@app.route('/')\n",
    "def home():\n",
    "    return render_template('index.html')\n",
    "\n",
    "@app.route('/predict',methods=['POST'])\n",
    "def predict():\n",
    "    str_features = [str(x) for x in request.form.values()]\n",
    "    zipcode = str_features[0]\n",
    "    res,city,weather,temp,zipcode = predict_prob(zipcode)\n",
    "\n",
    "\n",
    "\n",
    "    return render_template('index.html',\n",
    "                           prediction_text='You entered zipcode: {}<br>City: {}<br>Current Weather: {}<br>Current temperature: {}F<br>Probability of severity 1: {:.2%} <br> Probability of severity 2: {:.2%}<br> Probability of severity 3: {:.2%}<br> Probability of severity 4: {:.2%}<br> '\n",
    "                           .format(zipcode,city,weather,temp,res[0],res[1],res[2],res[3])+\"\"\"<img src=\"static/test.png\">\"\"\")\n",
    "\n",
    "def predict_prob(zipcode):\n",
    "\n",
    "    api_key = \"3899d4b00889b0c652a8a6506fbfb8a1\"\n",
    "    base_url = \"https://api.openweathermap.org/data/2.5/weather?\"\n",
    "    complete_url = base_url + \"appid=\" + api_key + \"&zip=\" + zipcode\n",
    "    response = requests.get(complete_url)\n",
    "    result = response.json()\n",
    "    new_data = pd.DataFrame()\n",
    "    if \"rain\" in result.keys():\n",
    "        print(result['rain'][\"1h\"])\n",
    "        new_data['Precipitation(in)'] =  [result['rain'][\"1h\"]]\n",
    "    else:\n",
    "        new_data['Precipitation(in)'] = [0]\n",
    "\n",
    "    temp = round((result['main']['temp'] - 273.15) * 9/5 + 32)\n",
    "    print(new_data)\n",
    "    new_data['Pressure(in)'] = [result[\"main\"]['pressure']/33.864]\n",
    "    new_data['Visibility(mi)'] = [result[\"visibility\"]/1609]\n",
    "    new_data['Humidity(%)'] = [result[\"main\"]['humidity']]\n",
    "    new_data['Wind_Speed(mph)'] = result['wind']['speed']*2.237\n",
    "    new_data['Early Morning'] =[0]\n",
    "    new_data['Morning'] =[0]\n",
    "    new_data['Noon'] =[0]\n",
    "    new_data['Evening'] =[0]\n",
    "    new_data['Night'] =[0]\n",
    "    new_data['Late Night'] =[0]\n",
    "    x = pd.to_datetime(pd.Timestamp.now()).hour\n",
    "\n",
    "    if (x > 4) and (x <= 8):\n",
    "        new_data['Early Morning']= 1\n",
    "    elif (x > 8) and (x <= 12 ):\n",
    "        new_data['Morning']=1\n",
    "    elif (x > 12) and (x <= 16):\n",
    "         new_data['Noon']=1\n",
    "    elif (x > 16) and (x <= 20) :\n",
    "         new_data['Evening']=1\n",
    "    elif (x > 20) and (x <= 24):\n",
    "         new_data['Night']=1\n",
    "    elif (x <= 4):\n",
    "         new_data['Late Night']=1\n",
    "    model = pickle.load(open('model.sav', 'rb'))\n",
    "    new_data.fillna(0,inplace=True)\n",
    "    prob = [model.predict_proba(new_data)][0][0]\n",
    "\n",
    "    prob_plot = pd.DataFrame({'Probablity':prob},index = ['Severity 1', 'Severity 2', 'Severity 3','Severity 4'])\n",
    "    city = result['name']\n",
    "\n",
    "    weather = result['weather'][0]['main']\n",
    "    ax = prob_plot.plot.bar()\n",
    "    fig = ax.get_figure()\n",
    "    fig.savefig('static/test.png',dpi=100,bbox_inches = 'tight', facecolor='w',transparent=False)\n",
    "    return prob,city,weather,temp,zipcode\n",
    "\n",
    "\n",
    "if __name__ == \"__main__\":\n",
    "    app.run()\n"
   ]
  },
  {
   "cell_type": "code",
   "execution_count": null,
   "id": "8c3b727e",
   "metadata": {},
   "outputs": [],
   "source": []
  }
 ],
 "metadata": {
  "kernelspec": {
   "display_name": "Python 3 (ipykernel)",
   "language": "python",
   "name": "python3"
  },
  "language_info": {
   "codemirror_mode": {
    "name": "ipython",
    "version": 3
   },
   "file_extension": ".py",
   "mimetype": "text/x-python",
   "name": "python",
   "nbconvert_exporter": "python",
   "pygments_lexer": "ipython3",
   "version": "3.9.7"
  }
 },
 "nbformat": 4,
 "nbformat_minor": 5
}
